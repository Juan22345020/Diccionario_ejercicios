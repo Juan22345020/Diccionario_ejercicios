{
  "nbformat": 4,
  "nbformat_minor": 0,
  "metadata": {
    "colab": {
      "provenance": [],
      "authorship_tag": "ABX9TyP65kNPvz7LtDbvl8CPNUZ8",
      "include_colab_link": true
    },
    "kernelspec": {
      "name": "python3",
      "display_name": "Python 3"
    },
    "language_info": {
      "name": "python"
    }
  },
  "cells": [
    {
      "cell_type": "markdown",
      "metadata": {
        "id": "view-in-github",
        "colab_type": "text"
      },
      "source": [
        "<a href=\"https://colab.research.google.com/github/Juan22345020/Diccionario_ejercicios/blob/main/Diccionarios.ipynb\" target=\"_parent\"><img src=\"https://colab.research.google.com/assets/colab-badge.svg\" alt=\"Open In Colab\"/></a>"
      ]
    },
    {
      "cell_type": "markdown",
      "source": [
        "Los diccionarios son datos estructurados, es decir hacen referencia a una \n",
        "coleccion de datos\n",
        "\n",
        "\n",
        "\n",
        "- Son una coleccion desordenada de pares de datos de la forma \"clave\"valor\"\", conocidos como elementos o items\n",
        "\n",
        "\n",
        " - son mutables: una vez definido el diccionario se le pueden agregar nuevos elementos, modificar o eliminar algunos de los que ya tiene.\n",
        "\n",
        "\n",
        "  - Tambien se les conoce como mapa hash o arreglos asociativos\n",
        "\n",
        "\n",
        " - En python los deccionarios son de tipo dict\n",
        "\n",
        "\n",
        "\n",
        " - Sintaxis: nombre_diccionario = {clave1: valor1, clave2:valor2, ...}\n",
        "\n",
        "\n",
        "\n",
        " - Cada item o elemento tiene la forma clave:valor\n",
        "\n",
        "\n",
        "\n",
        " - En cada item hay una clave y uno o mas valores. Si por alguna razon, se desconoce el valor se puede completar con: None\n",
        "\n",
        "\n",
        "\n",
        "- Los elementos del diccionario se indexan por la clave\n",
        " \n",
        "- Las claves solo pueden ser datos inmutables\n",
        "\n",
        "- Los valores pueden ser mutables o inmutables\n",
        "\n",
        "- Las claves no pueden repetirse dentro de un diccionar\n",
        "\n",
        "\n",
        "\n",
        "\n",
        "\n"
      ],
      "metadata": {
        "id": "LCoqsq0b1Tt-"
      }
    },
    {
      "cell_type": "code",
      "execution_count": null,
      "metadata": {
        "id": "CxYdpUeKyDjJ"
      },
      "outputs": [],
      "source": [
        "# Ejemplos diccionarios\n",
        "\n",
        "#La clave es una cadena\n",
        "\n",
        "num_meses = {\"enero\":1, \"febrero\":2, \"marzo\":3, \"abril\":4, \"junio\":5,}\n",
        "print(num_meses)\n",
        "\n",
        "# la clave es un entero \n",
        "\n",
        "nom_meses= {1:\"enero\", 2: \"febrero\", 3:\"marzo\", 4:\"abril\", 5:\"junio\"}\n",
        "print(nom_meses)\n",
        "\n",
        "print(\"El tipo es \", type(nom_meses))\n",
        "\n",
        "# Creacion de diccionarios por medio del constructor dict\n",
        "\n",
        "# por medio de una lista de tuplas\n",
        "\n",
        "dic_1= dict([(\"La paz\", 13), (\"Lima\", 27), (\"Caracas\",30)])\n",
        "print(\"Con lista de tuplas: \", dic_1)\n",
        "\n",
        "# poe medio de una lista de construccion\n",
        "\n",
        "dic_cubos = dict([(n,n**3)for n in range(1,5)])\n",
        "print(dic_cubos)\n",
        "\n",
        "\n"
      ]
    },
    {
      "cell_type": "code",
      "source": [
        "# operaciones\n",
        "\n",
        "#agregar elementos\n",
        "\n",
        "frutas= {\"manzana\":34, \"pera\":45}\n",
        "print(frutas)\n",
        "frutas[\"cereza\"] = 90\n",
        "print(frutas)\n",
        "frutas[\"manzana\"] = 37\n",
        "print(frutas)\n",
        "\n",
        "# consultar o modificar elementos\n",
        "print(\"El valor de la pera es: \", frutas[\"pera\"])\n"
      ],
      "metadata": {
        "id": "EP6Z06x54eut"
      },
      "execution_count": null,
      "outputs": []
    },
    {
      "cell_type": "code",
      "source": [
        "# Usando un diccionario, desarrolar una calculadora basicon con menu\n",
        "\n",
        "from math import log\n",
        "\n",
        "print(\"Calculadora basica\")\n",
        "print(\"1 ----> Sumas(x+y)\")\n",
        "print(\"2 ----> Resta(x-y)\")\n",
        "print(\"3 ----> Multiplicacion(x*y)\")\n",
        "print(\"4 ----> Division(x/y)\")\n",
        "print(\"5 ----> Potencia(x**y)\")\n",
        "print(\"6 ----> Logaritmo(base = x, argumento=y)\")\n",
        "\n",
        "# input\n",
        "\n",
        "x= float(input(\"Ingrese el valor de x: \"))\n",
        "y= float(input(\"Ingrese el valor de y:\"))\n",
        "opcion = input(\"Operacion que desea realizar: \")\n",
        "\n",
        "# Processing\n",
        "\n",
        "operaciones = {\"1\": x + y, \"2\": x-y, \"3\":x*y, \"4\":x/y, \"5\":x**y, }\n",
        "\n",
        "\n",
        "# Salida\n",
        "print(operaciones[opcion])"
      ],
      "metadata": {
        "id": "eDmIiFPp4ger"
      },
      "execution_count": null,
      "outputs": []
    }
  ]
}